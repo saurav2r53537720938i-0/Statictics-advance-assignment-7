{
 "cells": [
  {
   "cell_type": "code",
   "execution_count": 1,
   "id": "71025fb7-816e-444b-9470-5f8a5093f0f9",
   "metadata": {},
   "outputs": [
    {
     "ename": "SyntaxError",
     "evalue": "invalid syntax (421023613.py, line 2)",
     "output_type": "error",
     "traceback": [
      "\u001b[0;36m  Cell \u001b[0;32mIn[1], line 2\u001b[0;36m\u001b[0m\n\u001b[0;31m    from scipy.stats import\u001b[0m\n\u001b[0m                           ^\u001b[0m\n\u001b[0;31mSyntaxError\u001b[0m\u001b[0;31m:\u001b[0m invalid syntax\n"
     ]
    }
   ],
   "source": [
    "import numpy as np\n",
    "from scipy.stats import\n",
    "\n",
    "def variance_ratio_test(data1,data2):\n",
    "    \"\"\"\n",
    "    Performs a variance ratio test between two arrays of data.\n",
    "    \n",
    "    parmeters:\n",
    "    data1(array-like): First array of data.\n",
    "    data2 (array-like):second array of data\n",
    "    \n",
    "    Returns:\n",
    "    f-value(float): f-value of the variance ratio test.\n",
    "    p-value(float):\n",
    "    corresponding p-value for the test.\n",
    "    \"\"\"\n",
    "    # Calculate variance\n",
    "    var1 = np.var(data1,ddof=1)\n",
    "    var2 = np.var(data2,ddof=1)\n",
    "    \n",
    "    # Ensure var1>= var2\n",
    "    if var1<var:\n",
    "        var1,var2 = var2,var1\n",
    "        data1,data2 = data2,data1\n",
    "        \n",
    "    # Calculate degree of freedom\n",
    "    n1 =len(data1)\n",
    "    n2 =len(data2)\n",
    "    df1=n1-1\n",
    "    df2=n2-1"
   ]
  },
  {
   "cell_type": "code",
   "execution_count": 2,
   "id": "2815fbcb-ed04-49c6-8394-d8f086e32857",
   "metadata": {},
   "outputs": [],
   "source": [
    "from scipy.stats import f\n",
    "\n",
    "def crtical_f_value(alpha,df1,df2):\n",
    "    \"\"\"\n",
    "    Returns the crtical f-value for a two tailed test given a signficance level\n",
    "    and the degree of freedom for the numerator and denimator.\n",
    "    \n",
    "    parmeters:\n",
    "    alpha(float):Signficance level\n",
    "    df1(int):Degree of freedom for the numerator.\n",
    "    df2(int):Degree of freedom for the denimator.\n",
    "    \n",
    "    Returns:\n",
    "    crtical_f (float):\n",
    "    crtical f-value.\n",
    "    \"\"\""
   ]
  },
  {
   "cell_type": "code",
   "execution_count": null,
   "id": "01b48641-2796-4b4b-a4a5-f065e3cd78ba",
   "metadata": {},
   "outputs": [],
   "source": [
    "import numpy as np\n",
    "from scipy.stats import f\n",
    "\n",
    "def f_test(data1,data2):\n",
    "    \"\"\"\n",
    "    Performs an F-test to determine if the variance of two datasets are equal"
   ]
  }
 ],
 "metadata": {
  "kernelspec": {
   "display_name": "Python 3 (ipykernel)",
   "language": "python",
   "name": "python3"
  },
  "language_info": {
   "codemirror_mode": {
    "name": "ipython",
    "version": 3
   },
   "file_extension": ".py",
   "mimetype": "text/x-python",
   "name": "python",
   "nbconvert_exporter": "python",
   "pygments_lexer": "ipython3",
   "version": "3.10.8"
  }
 },
 "nbformat": 4,
 "nbformat_minor": 5
}
